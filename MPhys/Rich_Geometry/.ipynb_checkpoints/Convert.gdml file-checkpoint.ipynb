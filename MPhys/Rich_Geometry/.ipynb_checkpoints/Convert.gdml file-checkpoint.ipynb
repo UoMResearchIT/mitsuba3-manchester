{
 "cells": [
  {
   "cell_type": "code",
   "execution_count": null,
   "id": "29d9be57",
   "metadata": {},
   "outputs": [],
   "source": [
    "import drjit as dr\n",
    "import mitsuba as mi\n",
    "mi.set_variant('llvm_ad_rgb')\n",
    "mi.variants()"
   ]
  },
  {
   "cell_type": "code",
   "execution_count": null,
   "id": "a5a598a9",
   "metadata": {},
   "outputs": [],
   "source": [
    "# mi.set_variant('cuda_mono')\n",
    "scene = mi.load_file(\"xml/richGeo.xml\")\n",
    "original_image = mi.render(scene)\n",
    "import matplotlib.pyplot as plt\n",
    "plt.figure(figsize = (20,20))\n",
    "plt.axis('off')\n",
    "plt.imshow(original_image ** (1.0 / 2.2)); "
   ]
  },
  {
   "cell_type": "code",
   "execution_count": null,
   "id": "fecd2559",
   "metadata": {},
   "outputs": [],
   "source": [
    "# mi.set_variant('cuda_mono')\n",
    "scene = mi.load_file(\"xml/richGeo.xml\")\n",
    "original_image = mi.render(scene)\n",
    "import matplotlib.pyplot as plt\n",
    "plt.figure(figsize = (20,20))\n",
    "plt.axis('off')\n",
    "plt.imshow(original_image ** (1.0 / 2.2)); "
   ]
  },
  {
   "cell_type": "code",
   "execution_count": null,
   "id": "dc7038f0",
   "metadata": {},
   "outputs": [],
   "source": [
    "mi.set_variant('cuda_mono')\n",
    "scene = mi.load_file(\"xml/richGeo.xml\")\n",
    "original_image = mi.render(scene)\n",
    "import matplotlib.pyplot as plt\n",
    "plt.figure(figsize = (20,20))\n",
    "plt.axis('off')\n",
    "plt.imshow(original_image ** (1.0 / 2.2)); "
   ]
  },
  {
   "cell_type": "code",
   "execution_count": null,
   "id": "1794a43d",
   "metadata": {},
   "outputs": [],
   "source": [
    "mi.set_variant('cuda_mono')\n",
    "scene = mi.load_file(\"xml/richGeo.xml\")\n",
    "original_image = mi.render(scene)\n",
    "import matplotlib.pyplot as plt\n",
    "plt.figure(figsize = (20,20))\n",
    "plt.axis('off')\n",
    "plt.imshow(original_image ** (1.0 / 2.2)); "
   ]
  },
  {
   "cell_type": "code",
   "execution_count": null,
   "id": "c185f721",
   "metadata": {},
   "outputs": [],
   "source": [
    "mi.set_variant('cuda_mono')\n",
    "scene = mi.load_file(\"xml/richGeo.xml\")\n",
    "original_image = mi.render(scene)\n",
    "import matplotlib.pyplot as plt\n",
    "plt.figure(figsize = (20,20))\n",
    "plt.axis('off')\n",
    "plt.imshow(original_image ** (1.0 / 2.2)); "
   ]
  },
  {
   "cell_type": "code",
   "execution_count": null,
   "id": "90343745",
   "metadata": {},
   "outputs": [],
   "source": [
    "mi.set_variant('cuda_mono')\n",
    "scene = mi.load_file(\"xml/richGeo.xml\")\n",
    "original_image = mi.render(scene)\n",
    "import matplotlib.pyplot as plt\n",
    "plt.figure(figsize = (20,20))\n",
    "plt.axis('off')\n",
    "plt.imshow(original_image ** (1.0 / 2.2)); "
   ]
  },
  {
   "cell_type": "code",
   "execution_count": null,
   "id": "c18cacf5",
   "metadata": {},
   "outputs": [],
   "source": [
    "single_emitter_rendering_time = [10,11,10,12,12,12]\n",
    "single_emitter_rendering_time_total = [41,37,36,38,36,37]\n",
    "single_emitter_rendering_photons = [10,100,1000,10000,100000,1000000]\n",
    "single_emitter_Jit_memory = [864,864,864,864,864,864]\n",
    "single_emitter_loading_time = [636,505,642,573,508,618]"
   ]
  },
  {
   "cell_type": "code",
   "execution_count": null,
   "id": "45c9ea44",
   "metadata": {},
   "outputs": [],
   "source": [
    "mi.set_variant('cuda_mono')\n",
    "scene = mi.load_file(\"xml/richGeo.xml\")\n",
    "original_image = mi.render(scene)\n",
    "import matplotlib.pyplot as plt\n",
    "plt.figure(figsize = (20,20))\n",
    "plt.axis('off')\n",
    "plt.imshow(original_image ** (1.0 / 2.2)); "
   ]
  },
  {
   "cell_type": "code",
   "execution_count": null,
   "id": "279a9b7f",
   "metadata": {},
   "outputs": [],
   "source": [
    "mi.set_variant('cuda_mono')\n",
    "scene = mi.load_file(\"xml/richGeo.xml\")\n",
    "original_image = mi.render(scene)\n",
    "import matplotlib.pyplot as plt\n",
    "plt.figure(figsize = (20,20))\n",
    "plt.axis('off')\n",
    "plt.imshow(original_image ** (1.0 / 2.2)); "
   ]
  },
  {
   "cell_type": "code",
   "execution_count": null,
   "id": "3c695384",
   "metadata": {},
   "outputs": [],
   "source": [
    "mi.set_variant('cuda_mono')\n",
    "scene = mi.load_file(\"xml/richGeo.xml\")\n",
    "original_image = mi.render(scene)\n",
    "import matplotlib.pyplot as plt\n",
    "plt.figure(figsize = (20,20))\n",
    "plt.axis('off')\n",
    "plt.imshow(original_image ** (1.0 / 2.2)); "
   ]
  },
  {
   "cell_type": "code",
   "execution_count": null,
   "id": "50b3ee56",
   "metadata": {},
   "outputs": [],
   "source": [
    "mi.set_variant('cuda_mono')\n",
    "scene = mi.load_file(\"xml/richGeo.xml\")\n",
    "original_image = mi.render(scene)\n",
    "import matplotlib.pyplot as plt\n",
    "plt.figure(figsize = (20,20))\n",
    "plt.axis('off')\n",
    "plt.imshow(original_image ** (1.0 / 2.2)); "
   ]
  },
  {
   "cell_type": "code",
   "execution_count": null,
   "id": "496fa83a",
   "metadata": {},
   "outputs": [],
   "source": [
    "mi.set_variant('cuda_mono')\n",
    "scene = mi.load_file(\"xml/richGeo.xml\")\n",
    "original_image = mi.render(scene)\n",
    "import matplotlib.pyplot as plt\n",
    "plt.figure(figsize = (20,20))\n",
    "plt.axis('off')\n",
    "plt.imshow(original_image ** (1.0 / 2.2)); "
   ]
  },
  {
   "cell_type": "code",
   "execution_count": null,
   "id": "f7a0eaa1",
   "metadata": {},
   "outputs": [],
   "source": [
    "mi.set_variant('cuda_mono')\n",
    "scene = mi.load_file(\"xml/richGeo.xml\")\n",
    "original_image = mi.render(scene)\n",
    "import matplotlib.pyplot as plt\n",
    "plt.figure(figsize = (20,20))\n",
    "plt.axis('off')\n",
    "plt.imshow(original_image ** (1.0 / 2.2)); "
   ]
  },
  {
   "cell_type": "code",
   "execution_count": null,
   "id": "d354b04a",
   "metadata": {},
   "outputs": [],
   "source": [
    "spot_emitter_rendering_time = [12,12,14,14,14,15]\n",
    "spot_emitter_rendering_time_total = [43,53,123,978,3519,5215]\n",
    "spot_emitter_rendering_photons = [10,100,1000,10000,100000,1000000]\n",
    "spot_emitter_Jit_memory = [864,1344,6750,8600,34400,3375000]\n",
    "spot_emitter_loading_time = [644,828,2388,20907,58056,1230480]"
   ]
  },
  {
   "cell_type": "code",
   "execution_count": null,
   "id": "12097522",
   "metadata": {},
   "outputs": [],
   "source": [
    "import mitsuba as mi\n",
    "mi.set_variant('cuda_mono')\n",
    "scene = mi.load_file(\"xml/richGeo.xml\")\n",
    "original_image = mi.render(scene)\n",
    "import matplotlib.pyplot as plt\n",
    "plt.figure(figsize = (20,20))\n",
    "plt.axis('off')\n",
    "plt.imshow(original_image ** (1.0 / 2.2)); "
   ]
  },
  {
   "cell_type": "code",
   "execution_count": null,
   "id": "4588906a",
   "metadata": {},
   "outputs": [],
   "source": [
    "import mitsuba as mi\n",
    "mi.set_variant('cuda_mono')\n",
    "scene = mi.load_file(\"xml/richGeo.xml\")\n",
    "original_image = mi.render(scene)\n",
    "import matplotlib.pyplot as plt\n",
    "plt.figure(figsize = (20,20))\n",
    "plt.axis('off')\n",
    "plt.imshow(original_image ** (1.0 / 2.2)); "
   ]
  },
  {
   "cell_type": "code",
   "execution_count": null,
   "id": "7ddeb0a7",
   "metadata": {},
   "outputs": [],
   "source": [
    "photon_emitter_old_rendering_time = [12,11,11,13,14,14]\n",
    "photon_emitter_old_rendering_time_total = [42,43,94,528,1870,25872]\n",
    "photon_emitter_old_rendering_photons = [10,100,1000,10000,100000,1000000]\n",
    "photon_emitter_old_Jit_memory = [635,651,943,3046,9892,126936]"
   ]
  }
 ],
 "metadata": {
  "kernelspec": {
   "display_name": "Python 3 (ipykernel)",
   "language": "python",
   "name": "python3"
  },
  "language_info": {
   "codemirror_mode": {
    "name": "ipython",
    "version": 3
   },
   "file_extension": ".py",
   "mimetype": "text/x-python",
   "name": "python",
   "nbconvert_exporter": "python",
   "pygments_lexer": "ipython3",
   "version": "3.10.12"
  }
 },
 "nbformat": 4,
 "nbformat_minor": 5
}
