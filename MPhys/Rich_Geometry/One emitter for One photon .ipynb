{
 "cells": [
  {
   "cell_type": "code",
   "execution_count": 1,
   "id": "04bb9e3f",
   "metadata": {},
   "outputs": [],
   "source": [
    "import numpy as np\n",
    "import xml.etree.ElementTree as ET\n",
    "import mitsuba as mi\n",
    "import matplotlib.pyplot as plt\n",
    "import pandas as pd\n",
    "import random"
   ]
  },
  {
   "cell_type": "code",
   "execution_count": 2,
   "id": "d5fdc1cf",
   "metadata": {},
   "outputs": [],
   "source": [
    "nm_per_ev_constant = (float(6.6260715e-34)*float(3.00e8)*float(1e9))/(float(1.6021e-19)*float(1e6))"
   ]
  },
  {
   "cell_type": "code",
   "execution_count": 3,
   "id": "e408199c",
   "metadata": {},
   "outputs": [
    {
     "name": "stderr",
     "output_type": "stream",
     "text": [
      "/tmp/ipykernel_45017/193369547.py:9: FutureWarning: Series.__getitem__ treating keys as positions is deprecated. In a future version, integer keys will always be treated as labels (consistent with DataFrame behavior). To access a value by position, use `ser.iloc[pos]`\n",
      "  initial_number_of_photons = photon_data_full.count()[0]\n"
     ]
    },
    {
     "name": "stdout",
     "output_type": "stream",
     "text": [
      "0.1176 of emitted photon in G4 are actually detected.\n"
     ]
    },
    {
     "name": "stderr",
     "output_type": "stream",
     "text": [
      "/tmp/ipykernel_45017/193369547.py:43: FutureWarning: Series.__getitem__ treating keys as positions is deprecated. In a future version, integer keys will always be treated as labels (consistent with DataFrame behavior). To access a value by position, use `ser.iloc[pos]`\n",
      "  final_number_of_photons = photon_detected.count()[0]\n"
     ]
    }
   ],
   "source": [
    "#Values for linear interpolation.\n",
    "wavelength_steps = [100, 200, 230, 270, 300, 330, 370, 400, 430, 470, 500, 530, 570, 600, 630, 670, 700, 1000]\n",
    "qe_steps = [0, 0, 0.02, 0.20, 0.31, 0.35, 0.35, 0.33, 0.31, 0.24, 0.18, 0.08, 0.05, 0.02, 0.01, 0.002, 0, 0]\n",
    "rows_to_drop =[]\n",
    "\n",
    "#load data from original G4 output (csv format)\n",
    "column_names = [\"time (ps)\", \"x\", \"y\", \"z\", \"px\", \"py\", \"pz\", \"E (MeV)\"]\n",
    "photon_data_full = pd.read_csv('./test_data/Photons_1000000_filtered.csv', names = column_names, nrows=100000)\n",
    "initial_number_of_photons = photon_data_full.count()[0]\n",
    "\n",
    "def ev_to_nm (energy):\n",
    "    return nm_per_ev_constant/energy\n",
    "\n",
    "#gives linear relation between two wavelegths thanks to two efficiency values\n",
    "def linear_interp (j,w_input):\n",
    "    a = (qe_steps[j] - qe_steps[j-1])/(wavelength_steps[j] - wavelength_steps[j-1])\n",
    "    b = qe_steps[j-1] - a*wavelength_steps[j-1]\n",
    "    return a*w_input+b\n",
    "\n",
    "#Convert energy column to wavelength in nm.\n",
    "photon_data_full['E (MeV)'] = photon_data_full['E (MeV)'].apply(ev_to_nm)\n",
    "photon_data_full.rename(columns={\"E (MeV)\": \"Wavelength (nm)\"}, inplace = True)\n",
    "\n",
    "#iterate over each photon.\n",
    "for i in range(initial_number_of_photons):\n",
    "    for j in range(len(wavelength_steps)):\n",
    "        #find index in wavelength_steps corresponding to the photon.\n",
    "        if photon_data_full.loc[i, 'Wavelength (nm)']<wavelength_steps[j]:\n",
    "            break\n",
    "    #Use linear interpolation to calculate QE at this wavelength.\n",
    "    qe_estimated = linear_interp(j, photon_data_full.loc[i, 'Wavelength (nm)']) \n",
    "    x = random.uniform(0, 1)\n",
    "    if x > qe_estimated:\n",
    "        rows_to_drop.append(i)\n",
    "\n",
    "#generate new frame only with photons that will be detected.\n",
    "photon_detected = photon_data_full.drop(rows_to_drop)\n",
    "#I don't know why a first column is created and keeps track of the old index of photons.\n",
    "photon_detected.reset_index(drop=True, inplace= True)\n",
    "\n",
    "#Can be removed later. Outputs characteristics of saved photons.\n",
    "photon_detected.to_csv('./test_photons_detected_spectral.csv' )\n",
    "final_number_of_photons = photon_detected.count()[0]\n",
    "fraction_detected = final_number_of_photons/initial_number_of_photons\n",
    "print (\"{0:.4} of emitted photon in G4 are actually detected.\".format(fraction_detected))"
   ]
  },
  {
   "cell_type": "code",
   "execution_count": 4,
   "id": "658d3f43",
   "metadata": {},
   "outputs": [],
   "source": [
    "x_position = photon_detected.values[:,1] # x position of the detector\n",
    "y_position = photon_detected.values[:,2] # y position of the detectore\n",
    "z_position = photon_detected.values[:,3] # z position of the detector\n",
    "x_momentum = photon_detected.values[:,4] # x momentum of the particle\n",
    "y_momentum = photon_detected.values[:,5] # y momentum of the particle\n",
    "z_momentum = photon_detected.values[:,6] # z momentum of the particle\n",
    "\n",
    "# calculate the target coordinates for each photons\n",
    "x_target = []\n",
    "y_target = []\n",
    "z_target = []\n",
    "for i in range(len(x_position)):\n",
    "    x_target.append(x_position[i] + x_momentum[i])\n",
    "    y_target.append(y_position[i] + y_momentum[i])\n",
    "    z_target.append(z_position[i] + z_momentum[i])"
   ]
  },
  {
   "cell_type": "code",
   "execution_count": 5,
   "id": "3b5908ef",
   "metadata": {},
   "outputs": [],
   "source": [
    "tree = ET.parse('test_data/base_geometry.xml')\n",
    "root = tree.getroot()\n",
    "for emitter in root.iter('emitter'):\n",
    "    print(emitter.attrib)"
   ]
  },
  {
   "cell_type": "code",
   "execution_count": 6,
   "id": "02589cc9",
   "metadata": {},
   "outputs": [
    {
     "name": "stdout",
     "output_type": "stream",
     "text": [
      "0.0 2000.0 355.0\n",
      "0.0 1000.0 600.0\n"
     ]
    }
   ],
   "source": [
    "# parse the xml file to get information from the 1st mirror\n",
    "tree = ET.parse('test_data/base_geometry.xml')\n",
    "root = tree.getroot()\n",
    "for shape in root.iter('shape'):\n",
    "    if shape.get('id') == 'mirror_spherical':\n",
    "        for lookat in shape.iter('lookat'):\n",
    "            # get mirror's position\n",
    "            x_mirror = float(lookat.get('origin').split(',')[0])\n",
    "            y_mirror = float(lookat.get('origin').split(',')[1])\n",
    "            z_mirror = float(lookat.get('origin').split(',')[2])\n",
    "            # get mirror's target i.e. the vector normal to the mirror plane\n",
    "            x_target_mirror = float(lookat.get('target').split(',')[0])\n",
    "            y_target_mirror = float(lookat.get('target').split(',')[1])\n",
    "            z_target_mirror = float(lookat.get('target').split(',')[2])\n",
    "\n",
    "print(x_mirror, y_mirror, z_mirror)\n",
    "print(x_target_mirror, y_target_mirror, z_target_mirror)\n",
    "# add a check when spherical mirror is not present"
   ]
  },
  {
   "cell_type": "code",
   "execution_count": 7,
   "id": "d3e1e8a5",
   "metadata": {},
   "outputs": [],
   "source": [
    "# calculate the intersection between of line and a plane\n",
    "def isect_line_plane_v3(point_1, point_2, plane_coord, plane_normal, epsilon=1e-6):\n",
    "    \"\"\"\n",
    "    point_1, point_2: Define the line.\n",
    "    plane_coord, plane_normal: define the plane:\n",
    "        plane_coord Is a point on the plane (plane coordinate).\n",
    "        plane_normal Is a normal vector defining the plane direction;\n",
    "\n",
    "    Return a Vector or None (when the intersection can't be found).\n",
    "    \"\"\"\n",
    "    u = np.array(point_2) - np.array(point_1)\n",
    "    dot = np.dot(np.array(plane_normal), np.array(u))\n",
    "\n",
    "    if abs(dot) > epsilon:\n",
    "        # The factor of the point between p0 -> p1 (0 - 1)\n",
    "        # if 'fac' is between (0 - 1) the point intersects with the segment.\n",
    "        # Otherwise:\n",
    "        #  < 0.0: behind p0.\n",
    "        #  > 1.0: infront of p1.\n",
    "        w = np.array(point_1) - np.array(plane_coord)\n",
    "        \n",
    "        factor = - np.dot(np.array(plane_normal), np.array(w)) / dot\n",
    "        u = factor * u\n",
    "        return point_1 + u\n",
    "\n",
    "    # The segment is parallel to plane.\n",
    "    return None\n",
    "\n",
    "intersection = []\n",
    "distance = []\n",
    "mirror_coord = [x_mirror, y_mirror, z_mirror]\n",
    "mirror_normal = [x_target_mirror, y_target_mirror, z_target_mirror]\n",
    "for i in range(len(x_position)):\n",
    "    point_1 = [x_position[i], y_position[i], z_position[i]]\n",
    "    point_2 = [x_target[i], y_target[i], z_target[i]]\n",
    "    intersection.append(isect_line_plane_v3(point_1, point_2, mirror_coord, mirror_normal, epsilon=1e-6))\n",
    "    distance.append(np.sqrt((x_position[i] - intersection[i][0])**2 + (y_position[i] - intersection[i][1])**2 + (z_position[i] - intersection[i][2])**2))"
   ]
  },
  {
   "cell_type": "code",
   "execution_count": 8,
   "id": "8c77ea1c",
   "metadata": {},
   "outputs": [
    {
     "name": "stdout",
     "output_type": "stream",
     "text": [
      "11761\n"
     ]
    }
   ],
   "source": [
    "# # calculate the distance between the photons and the mirror\n",
    "# distance = []\n",
    "# for i in range(len(x_position)):\n",
    "#     distance.append(np.sqrt((x_position[i] - x_mirror)**2 + (y_position[i] - y_mirror)**2 + (z_position[i] - z_mirror)**2))\n",
    "# calculate the cutoff angle for each spot light\n",
    "cutoff_angle = np.array(2 * np.arctan(100/np.array(distance))) # should give a cutoff angle of around 0.2 degrees\n",
    "print(len(cutoff_angle))"
   ]
  },
  {
   "cell_type": "code",
   "execution_count": 9,
   "id": "01fe4d07",
   "metadata": {},
   "outputs": [],
   "source": [
    "# function that adds a new emitter with coordinated and target\n",
    "def add_spot_emitter(x, z, y, x_target, z_target, y_target, cutoff_angle):\n",
    "    \n",
    "    # parsing the xml file of the scene\n",
    "    tree = ET.parse('test_data/base_geometry.xml')\n",
    "    root = tree.getroot()\n",
    "    # add a spot emitter to the scene\n",
    "    ### here, the y and z axis are switched (because the scene is rotated by 90 degrees?) ###\n",
    "    for i in range(len(x)):\n",
    "        new_emitter = ET.SubElement(root, 'emitter', attrib={'type':'photon_emitter_old'})\n",
    "        transform = ET.SubElement(new_emitter, 'transform', attrib={'name':'to_world'})\n",
    "        lookat = ET.SubElement(transform, 'lookat', attrib={'origin':str(x[i]) + ', ' + str(z[i]) + ', ' + str(y[i]), 'target':str(x_target[i]) + ', ' + str(z_target[i]) + ', ' + str(y_target[i]), 'up':'0,1,0'})\n",
    "        rgb = ET.SubElement(new_emitter, 'rgb', attrib={'name':'intensity', 'value':'200000000.0'})\n",
    "        # modify the cutoff angle of the light\n",
    "    \n",
    "    # write it all on a new xml file.\n",
    "    tree.write(\"full_geometry.xml\")\n",
    "\n",
    "# add spot emitters\n",
    "add_spot_emitter(x_position, z_position, y_position, x_target, z_target, y_target, cutoff_angle)\n"
   ]
  },
  {
   "cell_type": "code",
   "execution_count": 10,
   "id": "f60c23ca",
   "metadata": {},
   "outputs": [],
   "source": [
    "# test cutoff values of the emitter\n",
    "tree = ET.parse('full_geometry.xml')\n",
    "root = tree.getroot()\n",
    "for emitter in root.iter('emitter'):\n",
    "    for float in emitter.iter('float'):\n",
    "        print(float.get('value'))"
   ]
  },
  {
   "cell_type": "code",
   "execution_count": 11,
   "id": "05acad4a",
   "metadata": {},
   "outputs": [
    {
     "ename": "RuntimeError",
     "evalue": "​[xml.cpp:1119] Error while loading \"full_geometry.xml\" (near byte offset 3870): could not instantiate emitter plugin of type \"photon_emitter\": \n[xml.cpp:1119]   [properties.cpp:178] Property \"photon_list\" has not been specified!",
     "output_type": "error",
     "traceback": [
      "\u001b[0;31m---------------------------------------------------------------------------\u001b[0m",
      "\u001b[0;31mRuntimeError\u001b[0m                              Traceback (most recent call last)",
      "Cell \u001b[0;32mIn[11], line 4\u001b[0m\n\u001b[1;32m      1\u001b[0m \u001b[38;5;66;03m# %%time\u001b[39;00m\n\u001b[1;32m      2\u001b[0m \u001b[38;5;66;03m# render the scene\u001b[39;00m\n\u001b[1;32m      3\u001b[0m mi\u001b[38;5;241m.\u001b[39mset_variant(\u001b[38;5;124m'\u001b[39m\u001b[38;5;124mscalar_rgb\u001b[39m\u001b[38;5;124m'\u001b[39m)\n\u001b[0;32m----> 4\u001b[0m scene \u001b[38;5;241m=\u001b[39m \u001b[43mmi\u001b[49m\u001b[38;5;241;43m.\u001b[39;49m\u001b[43mload_file\u001b[49m\u001b[43m(\u001b[49m\u001b[38;5;124;43m'\u001b[39;49m\u001b[38;5;124;43mfull_geometry.xml\u001b[39;49m\u001b[38;5;124;43m'\u001b[39;49m\u001b[43m)\u001b[49m\n\u001b[1;32m      5\u001b[0m image \u001b[38;5;241m=\u001b[39m mi\u001b[38;5;241m.\u001b[39mrender(scene)\n\u001b[1;32m      6\u001b[0m plt\u001b[38;5;241m.\u001b[39mfigure(figsize \u001b[38;5;241m=\u001b[39m (\u001b[38;5;241m20\u001b[39m,\u001b[38;5;241m20\u001b[39m))\n",
      "\u001b[0;31mRuntimeError\u001b[0m: ​[xml.cpp:1119] Error while loading \"full_geometry.xml\" (near byte offset 3870): could not instantiate emitter plugin of type \"photon_emitter\": \n[xml.cpp:1119]   [properties.cpp:178] Property \"photon_list\" has not been specified!"
     ]
    }
   ],
   "source": [
    "# %%time\n",
    "# render the scene\n",
    "mi.set_variant('scalar_rgb')\n",
    "scene = mi.load_file('full_geometry.xml')\n",
    "image = mi.render(scene)\n",
    "plt.figure(figsize = (20,20))\n",
    "plt.axis('off')\n",
    "plt.imshow(image ** (1.0 / 2.2)); "
   ]
  },
  {
   "cell_type": "code",
   "execution_count": null,
   "id": "90d3868f",
   "metadata": {},
   "outputs": [],
   "source": []
  }
 ],
 "metadata": {
  "kernelspec": {
   "display_name": "Python 3 (ipykernel)",
   "language": "python",
   "name": "python3"
  },
  "language_info": {
   "codemirror_mode": {
    "name": "ipython",
    "version": 3
   },
   "file_extension": ".py",
   "mimetype": "text/x-python",
   "name": "python",
   "nbconvert_exporter": "python",
   "pygments_lexer": "ipython3",
   "version": "3.10.12"
  }
 },
 "nbformat": 4,
 "nbformat_minor": 5
}
