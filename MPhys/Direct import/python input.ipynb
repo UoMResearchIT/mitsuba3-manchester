{
 "cells": [
  {
   "cell_type": "code",
<<<<<<< HEAD
   "execution_count": 1,
=======
   "execution_count": 3,
>>>>>>> dev
   "id": "a07ccfc1",
   "metadata": {},
   "outputs": [],
   "source": [
    "import numpy as np\n",
    "import mitsuba as mi\n",
    "import pandas as pd\n",
    "import random"
   ]
  },
  {
   "cell_type": "code",
   "execution_count": 4,
   "id": "85e1c7d1",
   "metadata": {},
   "outputs": [],
   "source": [
    "nm_per_ev_constant = (float(6.6260715e-34)*float(3.00e8)*float(1e9))/(float(1.6021e-19)*float(1e6))"
   ]
  },
  {
   "cell_type": "code",
   "execution_count": 5,
   "id": "3f851aeb",
   "metadata": {},
   "outputs": [
    {
     "name": "stdout",
     "output_type": "stream",
     "text": [
      "100\n",
      "0.12 of emitted photon in G4 are actually detected.\n"
     ]
    }
   ],
   "source": [
    "#Values for linear interpolation.\n",
    "wavelength_steps = [100, 200, 230, 270, 300, 330, 370, 400, 430, 470, 500, 530, 570, 600, 630, 670, 700, 1000]\n",
    "qe_steps = [0, 0, 0.02, 0.20, 0.31, 0.35, 0.35, 0.33, 0.31, 0.24, 0.18, 0.08, 0.05, 0.02, 0.01, 0.002, 0, 0]\n",
    "rows_to_drop =[]\n",
    "\n",
    "#load data from original G4 output (csv format)\n",
    "column_names = [\"time (ps)\", \"x\", \"y\", \"z\", \"px\", \"py\", \"pz\", \"E (MeV)\"]\n",
    "photon_data_full = pd.read_csv('../Single_Emitter/photons_with_wavelength.csv', names = column_names,nrows=100)\n",
    "initial_number_of_photons = photon_data_full.count()[0]\n",
    "print(initial_number_of_photons)\n",
    "\n",
    "def ev_to_nm (energy):\n",
    "    return nm_per_ev_constant/energy\n",
    "\n",
    "#gives linear relation between two wavelegths thanks to two efficiency values\n",
    "def linear_interp (j,w_input):\n",
    "    a = (qe_steps[j] - qe_steps[j-1])/(wavelength_steps[j] - wavelength_steps[j-1])\n",
    "    b = qe_steps[j-1] - a*wavelength_steps[j-1]\n",
    "    return a*w_input+b\n",
    "\n",
    "#Convert energy column to wavelength in nm.\n",
    "photon_data_full['E (MeV)'] = photon_data_full['E (MeV)'].apply(ev_to_nm)\n",
    "photon_data_full.rename(columns={\"E (MeV)\": \"Wavelength (nm)\"}, inplace = True)\n",
    "\n",
    "#iterate over each photon.\n",
    "for i in range(initial_number_of_photons):\n",
    "    for j in range(len(wavelength_steps)):\n",
    "        #find index in wavelength_steps corresponding to the photon.\n",
    "        if photon_data_full.loc[i, 'Wavelength (nm)']<wavelength_steps[j]:\n",
    "            break\n",
    "    #Use linear interpolation to calculate QE at this wavelength.\n",
    "    qe_estimated = linear_interp(j, photon_data_full.loc[i, 'Wavelength (nm)']) \n",
    "    x = random.uniform(0, 1)\n",
    "    if x > qe_estimated:\n",
    "        rows_to_drop.append(i)\n",
    "\n",
    "#generate new frame only with photons that will be detected.\n",
    "photon_detected = photon_data_full.drop(rows_to_drop)\n",
    "#I don't know why a first column is created and keeps track of the old index of photons.\n",
    "photon_detected.reset_index(drop=True, inplace= True)\n",
    "\n",
    "#Can be removed later. Outputs characteristics of saved photons.\n",
    "photon_detected.to_csv('./photons_detected_spectral.csv' )\n",
    "final_number_of_photons = photon_detected.count()[0]\n",
    "fraction_detected = final_number_of_photons/initial_number_of_photons\n",
    "print (\"{0:.4} of emitted photon in G4 are actually detected.\".format(fraction_detected))"
   ]
  },
  {
   "cell_type": "code",
   "execution_count": 6,
   "id": "dc8cd96d",
   "metadata": {},
   "outputs": [
    {
     "name": "stdout",
     "output_type": "stream",
     "text": [
      "12\n"
     ]
    }
   ],
   "source": [
    "x_position = photon_detected.values[:,1] # x position of the detector\n",
    "y_position = photon_detected.values[:,2] # y position of the detectore\n",
    "z_position = photon_detected.values[:,3] # z position of the detector\n",
    "x_momentum = photon_detected.values[:,4] # x momentum of the particle\n",
    "y_momentum = photon_detected.values[:,5] # y momentum of the particle\n",
    "z_momentum = photon_detected.values[:,6] # z momentum of the particle\n",
    "print(len(x_position))\n",
    "\n",
    "# calculate the target coordinates for each photons\n",
    "x_target = []\n",
    "y_target = []\n",
    "z_target = []\n",
    "for i in range(len(x_position)):\n",
    "    x_target.append(x_position[i] + x_momentum[i])\n",
    "    y_target.append(y_position[i] + y_momentum[i])\n",
    "    z_target.append(z_position[i] + z_momentum[i])\n"
   ]
  },
  {
   "cell_type": "code",
   "execution_count": 7,
   "id": "81196324",
   "metadata": {},
   "outputs": [],
   "source": [
    "with open(\"photons_geometry.txt\",'w')as f:\n",
    "    f.write(f\"{len(x_position)}\\n\")\n",
    "    for x1,y1,z1,x2,y2,z2 in zip(x_position,y_position,z_position,x_target,y_target,z_target):\n",
    "        f.write(f\"{x1},{z1},{y1}\\n\")\n",
    "        f.write(f\"{x2},{z2},{y2}\\n\")        "
   ]
  },
  {
   "cell_type": "code",
   "execution_count": 8,
   "id": "f8a1b525",
   "metadata": {},
   "outputs": [],
   "source": [
    "photon_info = []\n",
    "photon_info.append(len(x_position))\n",
    "for x1,y1,z1,x2,y2,z2 in zip(x_position,y_position,z_position,x_target,y_target,z_target):\n",
    "    photon_info.append(x1)\n",
    "    photon_info.append(y1)\n",
    "    photon_info.append(z1)\n",
    "    photon_info.append(x2)\n",
    "    photon_info.append(y2)\n",
    "    photon_info.append(z2)"
   ]
  },
  {
   "cell_type": "code",
   "execution_count": 9,
   "id": "b244d02a",
   "metadata": {},
   "outputs": [],
   "source": [
    "mi.set_variant('llvm_ad_rgb')\n",
    "# Determine the size of the 3D array\n",
    "size = (1, 1, len(photon_info))\n",
    "\n",
    "# Create the 3D array filled with zeros\n",
    "result = np.zeros(size, dtype=np.float32)\n",
    "\n",
    "# Fill the first element of the 3D array with the values from the input array\n",
    "result[0, 0, :] = photon_info\n",
    "photon_list = mi.VolumeGrid(result)"
   ]
  },
  {
   "cell_type": "code",
   "execution_count": 10,
   "id": "3c197f36",
   "metadata": {},
   "outputs": [
    {
     "data": {
      "text/plain": [
       "TensorXf(shape=(576, 768, 3))"
      ]
     },
     "execution_count": 10,
     "metadata": {},
     "output_type": "execute_result"
    }
   ],
   "source": [
    "import mitsuba as mi\n",
    "import drjit as dr\n",
    "\n",
    "mi.set_variant('llvm_ad_rgb')\n",
    "scene_description =  {\n",
    "    'type': 'scene',\n",
    "    'sphere': {\n",
    "        'type': 'sphere'\n",
    "    },\n",
    "    'spot1': {\n",
    "        'type': 'spot',\n",
    "        'to_world': mi.scalar_rgb.Transform4f.translate([0, 1, 0])\n",
    "    },\n",
    "    'spot2': {\n",
    "        'type': 'spot',\n",
    "        'to_world': mi.scalar_rgb.Transform4f.translate([0, 0, 1])\n",
    "    },\n",
    "    'integrator': {\n",
    "        'type': 'ptracer',\n",
    "    },\n",
    "    'sensor': {\n",
    "        'type': 'perspective',\n",
    "    },\n",
    "    'photon1':{\n",
    "        'type': 'photon_emitter',\n",
    "#         'filename':'../Rich Geometry/photon_geometry.bin',\n",
    "        'photon_list': photon_list\n",
    "    }\n",
    "}\n",
    "\n",
    "scene = mi.load_dict(scene_description)\n",
    "\n",
    "mi.render(scene)"
   ]
  },
  {
   "cell_type": "code",
   "execution_count": null,
   "id": "e6c07596",
   "metadata": {},
   "outputs": [],
   "source": []
  }
 ],
 "metadata": {
  "kernelspec": {
   "display_name": "Python 3 (ipykernel)",
   "language": "python",
   "name": "python3"
  },
  "language_info": {
   "codemirror_mode": {
    "name": "ipython",
    "version": 3
   },
   "file_extension": ".py",
   "mimetype": "text/x-python",
   "name": "python",
   "nbconvert_exporter": "python",
   "pygments_lexer": "ipython3",
   "version": "3.10.8"
  }
 },
 "nbformat": 4,
 "nbformat_minor": 5
}
