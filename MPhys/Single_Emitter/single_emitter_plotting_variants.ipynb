{
 "cells": [
  {
   "cell_type": "code",
   "execution_count": null,
   "id": "8f6875f4-0720-4401-a83d-30ec5b5f4e6f",
   "metadata": {},
   "outputs": [],
   "source": [
    "import numpy as np\n",
    "import matplotlib.pyplot as plt"
   ]
  },
  {
   "cell_type": "code",
   "execution_count": null,
   "id": "5c9c89ba-8999-4442-8582-8b55f04c1c6c",
   "metadata": {},
   "outputs": [],
   "source": [
    "# Load in data from different mitsuba variant tests\n",
    "variants = [\"llvm_mono\", \"llvm_ad_rgb\", \"cuda_mono\", \"cuda_ad_rgb\"]\n",
    "\n",
    "timing_data = []\n",
    "for variant in variants:\n",
    "    data = np.loadtxt(\"cluster_new_\"+variant+\"_tests/\"+variant+\"_timing_for_n_photons.csv\", delimiter=\",\")\n",
    "    timing_data.append([variant, data])\n",
    "\n",
    "print(timing_data)"
   ]
  },
  {
   "cell_type": "code",
   "execution_count": null,
   "id": "a6110c7d-a187-4c44-8c77-10320efaf2e3",
   "metadata": {},
   "outputs": [],
   "source": [
    "# Plot each variant for each column \n",
    "columns = [\"load\", \"load_and_render\", \"full_time\"]\n",
    "\n",
    "for ncol, column in enumerate(columns):\n",
    "    fig = plt.figure()\n",
    "    plt.plot([tn[0] for tn in timing_data[0][1]], [tn[ncol+1] for tn in timing_data[0][1]], label=column+' '+timing_data[0][0])\n",
    "    plt.plot([tn[0] for tn in timing_data[1][1]], [tn[ncol+1] for tn in timing_data[1][1]], label=column+' '+timing_data[1][0])\n",
    "    plt.plot([tn[0] for tn in timing_data[2][1]], [tn[ncol+1] for tn in timing_data[2][1]], label=column+' '+timing_data[2][0])\n",
    "    plt.plot([tn[0] for tn in timing_data[3][1]], [tn[ncol+1] for tn in timing_data[3][1]], label=column+' '+timing_data[3][0])\n",
    "    plt.legend()\n",
    "    plt.xscale('log')\n",
    "    plt.ylabel('time (s)')\n",
    "    plt.xlabel('Number of photons')\n",
    "    plt.title('timing vs n_photons, mitsuba3 single photon emitter variants ('+column+')')\n",
    "    plt.savefig('png/'+column+'_timing_for_n_photons')\n",
    "\n",
    "# Also plot just rendering time (column 2 minus column 1)\n",
    "fig = plt.figure()\n",
    "plt.plot([tn[0] for tn in timing_data[0][1]], [tn[2]-tn[1] for tn in timing_data[0][1]], label='render '+timing_data[0][0])\n",
    "plt.plot([tn[0] for tn in timing_data[1][1]], [tn[2]-tn[1] for tn in timing_data[1][1]], label='render '+timing_data[1][0])\n",
    "plt.plot([tn[0] for tn in timing_data[2][1]], [tn[2]-tn[1] for tn in timing_data[2][1]], label='render '+timing_data[2][0])\n",
    "plt.plot([tn[0] for tn in timing_data[3][1]], [tn[2]-tn[1] for tn in timing_data[3][1]], label='render '+timing_data[3][0])\n",
    "plt.legend()\n",
    "plt.xscale('log')\n",
    "plt.ylabel('time (s)')\n",
    "plt.xlabel('Number of photons')\n",
    "plt.title('timing vs n_photons, mitsuba3 single photon emitter variants (render)')\n",
    "plt.savefig('png/render_timing_for_n_photons')\n"
   ]
  },
  {
   "cell_type": "code",
   "execution_count": null,
   "id": "0c6906a4-caa3-43a0-a24d-48f22a4b0941",
   "metadata": {},
   "outputs": [],
   "source": []
  }
 ],
 "metadata": {
  "kernelspec": {
   "display_name": "Python 3 (ipykernel)",
   "language": "python",
   "name": "python3"
  },
  "language_info": {
   "codemirror_mode": {
    "name": "ipython",
    "version": 3
   },
   "file_extension": ".py",
   "mimetype": "text/x-python",
   "name": "python",
   "nbconvert_exporter": "python",
   "pygments_lexer": "ipython3",
   "version": "3.10.12"
  }
 },
 "nbformat": 4,
 "nbformat_minor": 5
}
