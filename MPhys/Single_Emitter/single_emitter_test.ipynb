{
 "cells": [
  {
   "cell_type": "code",
   "execution_count": null,
   "id": "ddb13ba1",
   "metadata": {},
   "outputs": [],
   "source": [
    "import drjit as dr\n",
    "import mitsuba as mi\n",
    "import time\n",
    "\n",
    "# mi.set_variant('cuda_mono')\n",
    "mi.set_variant('llvm_mono')\n",
    "mi.variants()"
   ]
  },
  {
   "cell_type": "code",
   "execution_count": null,
   "id": "28d236bf",
   "metadata": {},
   "outputs": [],
   "source": [
    "# scene = mi.load_file(\"./xml/two_mirrors.xml\")\n",
    "# original_image = mi.render(scene)\n",
    "# import matplotlib.pyplot as plt\n",
    "# plt.figure(figsize = (20,20))\n",
    "# plt.axis('off')\n",
    "# plt.imshow(original_image ** (1.0 / 2.2)); \n",
    "# plt.savefig('TEST')"
   ]
  },
  {
   "cell_type": "code",
   "execution_count": null,
   "id": "253a4ac1",
   "metadata": {},
   "outputs": [],
   "source": [
    "start_time = time.time()\n",
    "scene = mi.load_file(\"./xml/real_geometry_int10000.xml\")\n",
    "original_image = mi.render(scene)\n",
    "import matplotlib.pyplot as plt\n",
    "plt.figure(figsize = (20,20))\n",
    "plt.axis('off')\n",
    "plt.imshow(original_image ** (1.0 / 2.2)); \n",
    "end_time = time.time()\n",
    "elapsed_time = end_time - start_time\n",
    "print(f\"Elapsed time: {elapsed_time:.2f} seconds\")\n",
    "print(\"intensity = 1000\")\n",
    "plt.savefig('intensity = 1000')"
   ]
  },
  {
   "cell_type": "code",
   "execution_count": null,
   "id": "6590e3e9",
   "metadata": {},
   "outputs": [],
   "source": [
    "scene = mi.load_file(\"./xml/real_geometry_int500fov100.xml\")\n",
    "original_image = mi.render(scene)\n",
    "import matplotlib.pyplot as plt\n",
    "plt.figure(figsize = (20,20))\n",
    "plt.axis('off')\n",
    "plt.imshow(original_image ** (1.0 / 2.2)); \n",
    "print(\"intensity = 500, fov=100\")\n",
    "plt.savefig('intensity = 500,fov=100')"
   ]
  },
  {
   "cell_type": "code",
   "execution_count": null,
   "id": "9044017c",
   "metadata": {},
   "outputs": [],
   "source": [
    "scene = mi.load_file(\"./xml/real_geometry_int1000fov100.xml\")\n",
    "original_image = mi.render(scene)\n",
    "import matplotlib.pyplot as plt\n",
    "plt.figure(figsize = (20,20))\n",
    "plt.axis('off')\n",
    "plt.imshow(original_image ** (1.0 / 2.2)); \n",
    "print(\"intensity = 1000, fov=100\")\n",
    "plt.savefig('intensity = 1000,fov=100')"
   ]
  },
  {
   "cell_type": "code",
   "execution_count": null,
   "id": "529fbdd6",
   "metadata": {},
   "outputs": [],
   "source": [
    "scene = mi.load_file(\"./xml/real_geometry_int5000.xml\")\n",
    "original_image = mi.render(scene)\n",
    "import matplotlib.pyplot as plt\n",
    "plt.figure(figsize = (20,20))\n",
    "plt.axis('off')\n",
    "plt.imshow(original_image ** (1.0 / 2.2)); \n",
    "print(\"intensity = 5000\")\n",
    "plt.savefig('intensity = 5000')"
   ]
  },
  {
   "cell_type": "code",
   "execution_count": null,
   "id": "21d25c14",
   "metadata": {},
   "outputs": [],
   "source": [
    "scene = mi.load_file(\"./xml/real_geometry_int10000.xml\")\n",
    "original_image = mi.render(scene)\n",
    "import matplotlib.pyplot as plt\n",
    "plt.figure(figsize = (20,20))\n",
    "plt.axis('off')\n",
    "plt.imshow(original_image ** (1.0 / 2.2)); \n",
    "print(\"intensity = 10000\")\n",
    "plt.savefig('intensity = 10000')"
   ]
  },
  {
   "cell_type": "code",
   "execution_count": null,
   "id": "378c2677",
   "metadata": {},
   "outputs": [],
   "source": [
    "scene = mi.load_file(\"./xml/real_geometry_int15000.xml\")\n",
    "original_image = mi.render(scene)\n",
    "import matplotlib.pyplot as plt\n",
    "plt.figure(figsize = (20,20))\n",
    "plt.axis('off')\n",
    "plt.imshow(original_image ** (1.0 / 2.2)); \n",
    "print(\"intensity = 15000\")\n",
    "plt.savefig('intensity = 15000')"
   ]
  },
  {
   "cell_type": "code",
   "execution_count": null,
   "id": "8174302b",
   "metadata": {},
   "outputs": [],
   "source": [
    "scene = mi.load_file(\"./xml/real_geometry_int20000.xml\")\n",
    "original_image = mi.render(scene)\n",
    "import matplotlib.pyplot as plt\n",
    "plt.figure(figsize = (20,20))\n",
    "plt.axis('off')\n",
    "plt.imshow(original_image ** (1.0 / 2.2)); \n",
    "print(\"intensity = 20000\")\n",
    "plt.savefig('intensity = 20000')"
   ]
  },
  {
   "cell_type": "code",
   "execution_count": null,
   "id": "b23e461d",
   "metadata": {},
   "outputs": [],
   "source": [
    "scene = mi.load_file(\"./xml/real_geometry_int2000000.xml\")\n",
    "original_image = mi.render(scene)\n",
    "import matplotlib.pyplot as plt\n",
    "plt.figure(figsize = (20,20))\n",
    "plt.axis('off')\n",
    "plt.imshow(original_image ** (1.0 / 2.2)); \n",
    "print(\"intensity = 2000000\")\n",
    "plt.savefig('intensity = 2000000')"
   ]
  },
  {
   "cell_type": "code",
   "execution_count": null,
   "id": "5867da27",
   "metadata": {},
   "outputs": [],
   "source": [
    "# mi.set_variant('cuda_mono')\n",
    "mi.set_variant('llvm_mono')\n",
    "scene = mi.load_file(\"./xml/real_geometry_emittorightwall.xml\")\n",
    "original_image = mi.render(scene)\n",
    "import matplotlib.pyplot as plt\n",
    "plt.figure(figsize = (20,20))\n",
    "plt.axis('off')\n",
    "plt.imshow(original_image ** (1.0 / 2.2)); \n",
    "plt.savefig('emit to the right wall')"
   ]
  },
  {
   "cell_type": "code",
   "execution_count": null,
   "id": "cbc36e7a",
   "metadata": {},
   "outputs": [],
   "source": [
    "# mi.set_variant('cuda_mono')\n",
    "mi.set_variant('llvm_mono')\n",
    "scene = mi.load_file(\"./xml/real_geometry.xml\")  # assume this is the intensity=20000 that real_geometry.xml is saved with\n",
    "original_image = mi.render(scene)\n",
    "import matplotlib.pyplot as plt\n",
    "plt.figure(figsize = (20,20))\n",
    "plt.axis('off')\n",
    "plt.imshow(original_image ** (1.0 / 2.2)); "
   ]
  },
  {
   "cell_type": "code",
   "execution_count": null,
   "id": "484dffc2",
   "metadata": {},
   "outputs": [],
   "source": []
  }
 ],
 "metadata": {
  "kernelspec": {
   "display_name": "Python 3 (ipykernel)",
   "language": "python",
   "name": "python3"
  },
  "language_info": {
   "codemirror_mode": {
    "name": "ipython",
    "version": 3
   },
   "file_extension": ".py",
   "mimetype": "text/x-python",
   "name": "python",
   "nbconvert_exporter": "python",
   "pygments_lexer": "ipython3",
   "version": "3.10.12"
  }
 },
 "nbformat": 4,
 "nbformat_minor": 5
}
