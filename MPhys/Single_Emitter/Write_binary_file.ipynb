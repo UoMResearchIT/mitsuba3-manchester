{
 "cells": [
  {
   "cell_type": "code",
   "execution_count": 1,
   "id": "12360dbe",
   "metadata": {},
   "outputs": [],
   "source": [
    "import numpy as np\n",
    "import mitsuba as mi\n",
    "import pandas as pd\n",
    "import random"
   ]
  },
  {
   "cell_type": "code",
   "execution_count": 2,
   "id": "4c1a30d3",
   "metadata": {},
   "outputs": [],
   "source": [
    "nm_per_ev_constant = (float(6.6260715e-34)*float(3.00e8)*float(1e9))/(float(1.6021e-19)*float(1e6))"
   ]
  },
  {
   "cell_type": "code",
   "execution_count": 3,
   "id": "91ea6570",
   "metadata": {},
   "outputs": [
    {
     "name": "stderr",
     "output_type": "stream",
     "text": [
      "/tmp/ipykernel_206029/3515627264.py:9: FutureWarning: Series.__getitem__ treating keys as positions is deprecated. In a future version, integer keys will always be treated as labels (consistent with DataFrame behavior). To access a value by position, use `ser.iloc[pos]`\n",
      "  initial_number_of_photons = photon_data_full.count()[0]\n"
     ]
    },
    {
     "name": "stdout",
     "output_type": "stream",
     "text": [
      "0.1456 of emitted photon in G4 are actually detected.\n"
     ]
    },
    {
     "name": "stderr",
     "output_type": "stream",
     "text": [
      "/tmp/ipykernel_206029/3515627264.py:43: FutureWarning: Series.__getitem__ treating keys as positions is deprecated. In a future version, integer keys will always be treated as labels (consistent with DataFrame behavior). To access a value by position, use `ser.iloc[pos]`\n",
      "  final_number_of_photons = photon_detected.count()[0]\n"
     ]
    }
   ],
   "source": [
    "#Values for linear interpolation.\n",
    "wavelength_steps = [100, 200, 230, 270, 300, 330, 370, 400, 430, 470, 500, 530, 570, 600, 630, 670, 700, 1000]\n",
    "qe_steps = [0, 0, 0.02, 0.20, 0.31, 0.35, 0.35, 0.33, 0.31, 0.24, 0.18, 0.08, 0.05, 0.02, 0.01, 0.002, 0, 0]\n",
    "rows_to_drop =[]\n",
    "\n",
    "#load data from original G4 output (csv format)\n",
    "column_names = [\"time (ps)\", \"x\", \"y\", \"z\", \"px\", \"py\", \"pz\", \"E (MeV)\"]\n",
    "photon_data_full = pd.read_csv('./Photons_1000000_filtered.csv', names = column_names)\n",
    "initial_number_of_photons = photon_data_full.count()[0]\n",
    "\n",
    "def ev_to_nm (energy):\n",
    "    return nm_per_ev_constant/energy\n",
    "\n",
    "#gives linear relation between two wavelegths thanks to two efficiency values\n",
    "def linear_interp (j,w_input):\n",
    "    a = (qe_steps[j] - qe_steps[j-1])/(wavelength_steps[j] - wavelength_steps[j-1])\n",
    "    b = qe_steps[j-1] - a*wavelength_steps[j-1]\n",
    "    return a*w_input+b\n",
    "\n",
    "#Convert energy column to wavelength in nm.\n",
    "photon_data_full['E (MeV)'] = photon_data_full['E (MeV)'].apply(ev_to_nm)\n",
    "photon_data_full.rename(columns={\"E (MeV)\": \"Wavelength (nm)\"}, inplace = True)\n",
    "\n",
    "#iterate over each photon.\n",
    "for i in range(initial_number_of_photons):\n",
    "    for j in range(len(wavelength_steps)):\n",
    "        #find index in wavelength_steps corresponding to the photon.\n",
    "        if photon_data_full.loc[i, 'Wavelength (nm)']<wavelength_steps[j]:\n",
    "            break\n",
    "    #Use linear interpolation to calculate QE at this wavelength.\n",
    "    qe_estimated = linear_interp(j, photon_data_full.loc[i, 'Wavelength (nm)']) \n",
    "    x = random.uniform(0, 1)\n",
    "    if x > qe_estimated:\n",
    "        rows_to_drop.append(i)\n",
    "\n",
    "#generate new frame only with photons that will be detected.\n",
    "photon_detected = photon_data_full.drop(rows_to_drop)\n",
    "#I don't know why a first column is created and keeps track of the old index of photons.\n",
    "photon_detected.reset_index(drop=True, inplace= True)\n",
    "\n",
    "#Can be removed later. Outputs characteristics of saved photons.\n",
    "photon_detected.to_csv('./test_photons_detected_spectral.csv' )\n",
    "final_number_of_photons = photon_detected.count()[0]\n",
    "fraction_detected = final_number_of_photons/initial_number_of_photons\n",
    "print (\"{0:.4} of emitted photon in G4 are actually detected.\".format(fraction_detected))\n",
    "\n",
    "print(photon_detected)"
   ]
  },
  {
   "cell_type": "code",
   "execution_count": 4,
   "id": "b48df3a5",
   "metadata": {},
   "outputs": [],
   "source": [
    "x_position = photon_detected.values[:,1] # x position of the detector\n",
    "y_position = photon_detected.values[:,2] # y position of the detectore\n",
    "z_position = photon_detected.values[:,3] # z position of the detector\n",
    "x_momentum = photon_detected.values[:,4] # x momentum of the particle\n",
    "y_momentum = photon_detected.values[:,5] # y momentum of the particle\n",
    "z_momentum = photon_detected.values[:,6] # z momentum of the particle\n",
    "\n",
    "# calculate the target coordinates for each photons\n",
    "x_target = []\n",
    "y_target = []\n",
    "z_target = []\n",
    "for i in range(len(x_position)):\n",
    "    x_target.append(x_position[i] + x_momentum[i])\n",
    "    y_target.append(y_position[i] + y_momentum[i])\n",
    "    z_target.append(z_position[i] + z_momentum[i])\n"
   ]
  },
  {
   "cell_type": "code",
   "execution_count": 5,
   "id": "2ad3c668",
   "metadata": {},
   "outputs": [],
   "source": [
    "import struct\n",
    "\n",
    "with open(\"test_photon_geometry.bin\", \"wb\") as f:\n",
    "    f.write(struct.pack(\"<Q\", len(x_position)))  # Use 'Q' format for 64-bit unsigned integer (size_t)\n",
    "    for x1, y1, z1, x2, y2, z2 in zip(x_position, y_position, z_position, x_target, y_target, z_target):\n",
    "        f.write(struct.pack(\"<f\", x1))\n",
    "        f.write(struct.pack(\"<f\", z1))\n",
    "        f.write(struct.pack(\"<f\", y1))\n",
    "        f.write(struct.pack(\"<f\", x2))\n",
    "        f.write(struct.pack(\"<f\", z2))\n",
    "        f.write(struct.pack(\"<f\", y2))\n"
   ]
  }
 ],
 "metadata": {
  "kernelspec": {
   "display_name": "Python 3 (ipykernel)",
   "language": "python",
   "name": "python3"
  },
  "language_info": {
   "codemirror_mode": {
    "name": "ipython",
    "version": 3
   },
   "file_extension": ".py",
   "mimetype": "text/x-python",
   "name": "python",
   "nbconvert_exporter": "python",
   "pygments_lexer": "ipython3",
   "version": "3.10.12"
  }
 },
 "nbformat": 4,
 "nbformat_minor": 5
}
